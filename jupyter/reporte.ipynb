{
 "cells": [
  {
   "cell_type": "markdown",
   "id": "4cb2f0e4",
   "metadata": {},
   "source": [
    "Esto es un recordatorio de lo que llevamos encerrado en estye entorno virtual "
   ]
  },
  {
   "cell_type": "code",
   "execution_count": 1,
   "id": "85bfb0d3",
   "metadata": {},
   "outputs": [],
   "source": [
    "# 1. Importar librerías necesarias\n",
    "import os\n",
    "from dotenv import load_dotenv\n",
    "import pandas as pd\n",
    "from sqlalchemy import create_engine\n",
    "\n"
   ]
  },
  {
   "cell_type": "code",
   "execution_count": 2,
   "id": "79f10f54",
   "metadata": {},
   "outputs": [
    {
     "data": {
      "text/plain": [
       "True"
      ]
     },
     "execution_count": 2,
     "metadata": {},
     "output_type": "execute_result"
    }
   ],
   "source": [
    "# 2. Cargar las variables de entorno desde el archivo .env\n",
    "# Esto permite mantener seguras las credenciales de la base de datos\n",
    "load_dotenv()\n"
   ]
  },
  {
   "cell_type": "code",
   "execution_count": 3,
   "id": "abc7affc",
   "metadata": {},
   "outputs": [],
   "source": [
    "# 3. Obtener las credenciales de la base de datos desde las variables de entorno\n",
    "usuario = os.getenv(\"DB_USER\")\n",
    "contraseña = os.getenv(\"DB_PASSWORD\")\n",
    "host = os.getenv(\"DB_HOST\")\n",
    "base_de_datos = os.getenv(\"DB_NAME\")\n",
    "puerto = os.getenv(\"DB_PORT\")\n"
   ]
  },
  {
   "cell_type": "code",
   "execution_count": 4,
   "id": "d1890b02",
   "metadata": {},
   "outputs": [],
   "source": [
    "# 4. Crear el engine de SQLAlchemy para conectar pandas con MySQL\n",
    "# Esto permite a pandas leer datos directamente desde la base de datos\n",
    "engine = create_engine(f\"mysql+mysqlconnector://{usuario}:{contraseña}@{host}:{puerto}/{base_de_datos}\")\n"
   ]
  },
  {
   "cell_type": "code",
   "execution_count": 5,
   "id": "1931ba12",
   "metadata": {},
   "outputs": [],
   "source": [
    "\n",
    "# 5. Leer la tabla 'diccionario_campos' en un DataFrame de pandas\n",
    "# Así podemos manipular y analizar el diccionario de datos con pandas\n",
    "diccionario = pd.read_sql(\"SELECT * FROM diccionario_campos\", engine)\n"
   ]
  },
  {
   "cell_type": "code",
   "execution_count": 9,
   "id": "106a5ca2",
   "metadata": {},
   "outputs": [
    {
     "name": "stdout",
     "output_type": "stream",
     "text": [
      "Primeras filas del diccionario de datos:\n"
     ]
    },
    {
     "data": {
      "application/vnd.microsoft.datawrangler.viewer.v0+json": {
       "columns": [
        {
         "name": "index",
         "rawType": "int64",
         "type": "integer"
        },
        {
         "name": "id",
         "rawType": "int64",
         "type": "integer"
        },
        {
         "name": "tabla",
         "rawType": "object",
         "type": "string"
        },
        {
         "name": "campo",
         "rawType": "object",
         "type": "string"
        },
        {
         "name": "tipo_dato",
         "rawType": "object",
         "type": "string"
        },
        {
         "name": "descripcion",
         "rawType": "object",
         "type": "string"
        }
       ],
       "ref": "c36b378c-e548-421c-abff-449ce886bdc0",
       "rows": [
        [
         "0",
         "1",
         "Transacciones",
         "id",
         "INT",
         "Identificador único de la transacción"
        ],
        [
         "1",
         "2",
         "Transacciones",
         "fecha",
         "DATE",
         "Fecha de la transacción"
        ],
        [
         "2",
         "3",
         "Transacciones",
         "monto",
         "DECIMAL(12,2)",
         "Monto de la transacción"
        ],
        [
         "3",
         "4",
         "Transacciones",
         "estado",
         "VARCHAR(20)",
         "Estado de la transacción (ej: Aceptada, Rechazada)"
        ],
        [
         "4",
         "5",
         "Transacciones",
         "id_pagador",
         "INT",
         "Identificador del pagador"
        ]
       ],
       "shape": {
        "columns": 5,
        "rows": 5
       }
      },
      "text/html": [
       "<div>\n",
       "<style scoped>\n",
       "    .dataframe tbody tr th:only-of-type {\n",
       "        vertical-align: middle;\n",
       "    }\n",
       "\n",
       "    .dataframe tbody tr th {\n",
       "        vertical-align: top;\n",
       "    }\n",
       "\n",
       "    .dataframe thead th {\n",
       "        text-align: right;\n",
       "    }\n",
       "</style>\n",
       "<table border=\"1\" class=\"dataframe\">\n",
       "  <thead>\n",
       "    <tr style=\"text-align: right;\">\n",
       "      <th></th>\n",
       "      <th>id</th>\n",
       "      <th>tabla</th>\n",
       "      <th>campo</th>\n",
       "      <th>tipo_dato</th>\n",
       "      <th>descripcion</th>\n",
       "    </tr>\n",
       "  </thead>\n",
       "  <tbody>\n",
       "    <tr>\n",
       "      <th>0</th>\n",
       "      <td>1</td>\n",
       "      <td>Transacciones</td>\n",
       "      <td>id</td>\n",
       "      <td>INT</td>\n",
       "      <td>Identificador único de la transacción</td>\n",
       "    </tr>\n",
       "    <tr>\n",
       "      <th>1</th>\n",
       "      <td>2</td>\n",
       "      <td>Transacciones</td>\n",
       "      <td>fecha</td>\n",
       "      <td>DATE</td>\n",
       "      <td>Fecha de la transacción</td>\n",
       "    </tr>\n",
       "    <tr>\n",
       "      <th>2</th>\n",
       "      <td>3</td>\n",
       "      <td>Transacciones</td>\n",
       "      <td>monto</td>\n",
       "      <td>DECIMAL(12,2)</td>\n",
       "      <td>Monto de la transacción</td>\n",
       "    </tr>\n",
       "    <tr>\n",
       "      <th>3</th>\n",
       "      <td>4</td>\n",
       "      <td>Transacciones</td>\n",
       "      <td>estado</td>\n",
       "      <td>VARCHAR(20)</td>\n",
       "      <td>Estado de la transacción (ej: Aceptada, Rechaz...</td>\n",
       "    </tr>\n",
       "    <tr>\n",
       "      <th>4</th>\n",
       "      <td>5</td>\n",
       "      <td>Transacciones</td>\n",
       "      <td>id_pagador</td>\n",
       "      <td>INT</td>\n",
       "      <td>Identificador del pagador</td>\n",
       "    </tr>\n",
       "  </tbody>\n",
       "</table>\n",
       "</div>"
      ],
      "text/plain": [
       "   id          tabla       campo      tipo_dato  \\\n",
       "0   1  Transacciones          id            INT   \n",
       "1   2  Transacciones       fecha           DATE   \n",
       "2   3  Transacciones       monto  DECIMAL(12,2)   \n",
       "3   4  Transacciones      estado    VARCHAR(20)   \n",
       "4   5  Transacciones  id_pagador            INT   \n",
       "\n",
       "                                         descripcion  \n",
       "0              Identificador único de la transacción  \n",
       "1                            Fecha de la transacción  \n",
       "2                            Monto de la transacción  \n",
       "3  Estado de la transacción (ej: Aceptada, Rechaz...  \n",
       "4                          Identificador del pagador  "
      ]
     },
     "metadata": {},
     "output_type": "display_data"
    }
   ],
   "source": [
    "# 6. Mostrar las primeras filas para verificar la estructura del diccionario\n",
    "print(\"Primeras filas del diccionario de datos:\")\n",
    "display(diccionario.head())\n"
   ]
  },
  {
   "cell_type": "code",
   "execution_count": 8,
   "id": "0c600fa2",
   "metadata": {},
   "outputs": [
    {
     "name": "stdout",
     "output_type": "stream",
     "text": [
      "\n",
      "Cantidad de campos por tabla:\n"
     ]
    },
    {
     "data": {
      "application/vnd.microsoft.datawrangler.viewer.v0+json": {
       "columns": [
        {
         "name": "tabla",
         "rawType": "object",
         "type": "string"
        },
        {
         "name": "campo",
         "rawType": "int64",
         "type": "integer"
        }
       ],
       "ref": "fca94bc8-9bf7-45b5-a927-5ad71e5a46ce",
       "rows": [
        [
         "Comercio",
         "3"
        ],
        [
         "Pagador",
         "3"
        ],
        [
         "Transacciones",
         "6"
        ],
        [
         "Transacciones_Rest",
         "4"
        ]
       ],
       "shape": {
        "columns": 1,
        "rows": 4
       }
      },
      "text/plain": [
       "tabla\n",
       "Comercio              3\n",
       "Pagador               3\n",
       "Transacciones         6\n",
       "Transacciones_Rest    4\n",
       "Name: campo, dtype: int64"
      ]
     },
     "metadata": {},
     "output_type": "display_data"
    }
   ],
   "source": [
    "# 7. Ejercicio a) ¿Cuántos campos tiene cada tabla?\n",
    "# Agrupamos por la columna 'tabla' y contamos los campos\n",
    "campos_por_tabla = diccionario.groupby('tabla')['campo'].count()\n",
    "print(\"\\nCantidad de campos por tabla:\")\n",
    "display(campos_por_tabla)"
   ]
  },
  {
   "cell_type": "code",
   "execution_count": 7,
   "id": "a7a200ab",
   "metadata": {},
   "outputs": [
    {
     "name": "stdout",
     "output_type": "stream",
     "text": [
      "\n",
      "Campos tipo DECIMAL:\n"
     ]
    },
    {
     "data": {
      "application/vnd.microsoft.datawrangler.viewer.v0+json": {
       "columns": [
        {
         "name": "index",
         "rawType": "int64",
         "type": "integer"
        },
        {
         "name": "tabla",
         "rawType": "object",
         "type": "string"
        },
        {
         "name": "campo",
         "rawType": "object",
         "type": "string"
        },
        {
         "name": "tipo_dato",
         "rawType": "object",
         "type": "string"
        }
       ],
       "ref": "3686157e-187a-49cd-9c92-58602d06264b",
       "rows": [
        [
         "2",
         "Transacciones",
         "monto",
         "DECIMAL(12,2)"
        ],
        [
         "8",
         "Transacciones_Rest",
         "monto",
         "DECIMAL(12,2)"
        ]
       ],
       "shape": {
        "columns": 3,
        "rows": 2
       }
      },
      "text/html": [
       "<div>\n",
       "<style scoped>\n",
       "    .dataframe tbody tr th:only-of-type {\n",
       "        vertical-align: middle;\n",
       "    }\n",
       "\n",
       "    .dataframe tbody tr th {\n",
       "        vertical-align: top;\n",
       "    }\n",
       "\n",
       "    .dataframe thead th {\n",
       "        text-align: right;\n",
       "    }\n",
       "</style>\n",
       "<table border=\"1\" class=\"dataframe\">\n",
       "  <thead>\n",
       "    <tr style=\"text-align: right;\">\n",
       "      <th></th>\n",
       "      <th>tabla</th>\n",
       "      <th>campo</th>\n",
       "      <th>tipo_dato</th>\n",
       "    </tr>\n",
       "  </thead>\n",
       "  <tbody>\n",
       "    <tr>\n",
       "      <th>2</th>\n",
       "      <td>Transacciones</td>\n",
       "      <td>monto</td>\n",
       "      <td>DECIMAL(12,2)</td>\n",
       "    </tr>\n",
       "    <tr>\n",
       "      <th>8</th>\n",
       "      <td>Transacciones_Rest</td>\n",
       "      <td>monto</td>\n",
       "      <td>DECIMAL(12,2)</td>\n",
       "    </tr>\n",
       "  </tbody>\n",
       "</table>\n",
       "</div>"
      ],
      "text/plain": [
       "                tabla  campo      tipo_dato\n",
       "2       Transacciones  monto  DECIMAL(12,2)\n",
       "8  Transacciones_Rest  monto  DECIMAL(12,2)"
      ]
     },
     "metadata": {},
     "output_type": "display_data"
    }
   ],
   "source": [
    "# 8. Ejercicio b) ¿Cuáles son los campos tipo DECIMAL en todas las tablas?\n",
    "# Filtramos las filas donde el tipo de dato contiene la palabra 'DECIMAL'\n",
    "campos_decimal = diccionario[diccionario['tipo_dato'].str.contains('DECIMAL', case=False)]\n",
    "print(\"\\nCampos tipo DECIMAL:\")\n",
    "display(campos_decimal[['tabla', 'campo', 'tipo_dato']])\n"
   ]
  },
  {
   "cell_type": "code",
   "execution_count": 6,
   "id": "5e57b624",
   "metadata": {},
   "outputs": [
    {
     "name": "stdout",
     "output_type": "stream",
     "text": [
      "\n",
      "Campos relacionados con correo:\n"
     ]
    },
    {
     "data": {
      "application/vnd.microsoft.datawrangler.viewer.v0+json": {
       "columns": [
        {
         "name": "index",
         "rawType": "int64",
         "type": "integer"
        },
        {
         "name": "tabla",
         "rawType": "object",
         "type": "string"
        },
        {
         "name": "campo",
         "rawType": "object",
         "type": "string"
        },
        {
         "name": "descripcion",
         "rawType": "object",
         "type": "string"
        }
       ],
       "ref": "01b642ca-ce08-46b1-ad17-8ad1f4817ce2",
       "rows": [
        [
         "12",
         "Pagador",
         "email",
         "Correo electrónico del pagador"
        ]
       ],
       "shape": {
        "columns": 3,
        "rows": 1
       }
      },
      "text/html": [
       "<div>\n",
       "<style scoped>\n",
       "    .dataframe tbody tr th:only-of-type {\n",
       "        vertical-align: middle;\n",
       "    }\n",
       "\n",
       "    .dataframe tbody tr th {\n",
       "        vertical-align: top;\n",
       "    }\n",
       "\n",
       "    .dataframe thead th {\n",
       "        text-align: right;\n",
       "    }\n",
       "</style>\n",
       "<table border=\"1\" class=\"dataframe\">\n",
       "  <thead>\n",
       "    <tr style=\"text-align: right;\">\n",
       "      <th></th>\n",
       "      <th>tabla</th>\n",
       "      <th>campo</th>\n",
       "      <th>descripcion</th>\n",
       "    </tr>\n",
       "  </thead>\n",
       "  <tbody>\n",
       "    <tr>\n",
       "      <th>12</th>\n",
       "      <td>Pagador</td>\n",
       "      <td>email</td>\n",
       "      <td>Correo electrónico del pagador</td>\n",
       "    </tr>\n",
       "  </tbody>\n",
       "</table>\n",
       "</div>"
      ],
      "text/plain": [
       "      tabla  campo                     descripcion\n",
       "12  Pagador  email  Correo electrónico del pagador"
      ]
     },
     "metadata": {},
     "output_type": "display_data"
    }
   ],
   "source": [
    "# 9. Ejercicio c) ¿Cuáles campos tienen la palabra 'correo' en la descripción?\n",
    "# Filtramos las filas donde la descripción contiene la palabra 'correo'\n",
    "campos_correo = diccionario[diccionario['descripcion'].str.contains('correo', case=False, na=False)]\n",
    "print(\"\\nCampos relacionados con correo:\")\n",
    "display(campos_correo[['tabla', 'campo', 'descripcion']])\n"
   ]
  },
  {
   "cell_type": "code",
   "execution_count": 10,
   "id": "d1949bca",
   "metadata": {},
   "outputs": [
    {
     "name": "stdout",
     "output_type": "stream",
     "text": [
      "\n",
      "Campos de la tabla Pagador:\n"
     ]
    },
    {
     "data": {
      "application/vnd.microsoft.datawrangler.viewer.v0+json": {
       "columns": [
        {
         "name": "index",
         "rawType": "int64",
         "type": "integer"
        },
        {
         "name": "campo",
         "rawType": "object",
         "type": "string"
        },
        {
         "name": "tipo_dato",
         "rawType": "object",
         "type": "string"
        },
        {
         "name": "descripcion",
         "rawType": "object",
         "type": "string"
        }
       ],
       "ref": "e862a469-0b0d-49ab-a322-cad70f1f7a5c",
       "rows": [
        [
         "10",
         "id",
         "INT",
         "Identificador único del pagador"
        ],
        [
         "11",
         "nombre",
         "VARCHAR(100)",
         "Nombre del pagador"
        ],
        [
         "12",
         "email",
         "VARCHAR(100)",
         "Correo electrónico del pagador"
        ]
       ],
       "shape": {
        "columns": 3,
        "rows": 3
       }
      },
      "text/html": [
       "<div>\n",
       "<style scoped>\n",
       "    .dataframe tbody tr th:only-of-type {\n",
       "        vertical-align: middle;\n",
       "    }\n",
       "\n",
       "    .dataframe tbody tr th {\n",
       "        vertical-align: top;\n",
       "    }\n",
       "\n",
       "    .dataframe thead th {\n",
       "        text-align: right;\n",
       "    }\n",
       "</style>\n",
       "<table border=\"1\" class=\"dataframe\">\n",
       "  <thead>\n",
       "    <tr style=\"text-align: right;\">\n",
       "      <th></th>\n",
       "      <th>campo</th>\n",
       "      <th>tipo_dato</th>\n",
       "      <th>descripcion</th>\n",
       "    </tr>\n",
       "  </thead>\n",
       "  <tbody>\n",
       "    <tr>\n",
       "      <th>10</th>\n",
       "      <td>id</td>\n",
       "      <td>INT</td>\n",
       "      <td>Identificador único del pagador</td>\n",
       "    </tr>\n",
       "    <tr>\n",
       "      <th>11</th>\n",
       "      <td>nombre</td>\n",
       "      <td>VARCHAR(100)</td>\n",
       "      <td>Nombre del pagador</td>\n",
       "    </tr>\n",
       "    <tr>\n",
       "      <th>12</th>\n",
       "      <td>email</td>\n",
       "      <td>VARCHAR(100)</td>\n",
       "      <td>Correo electrónico del pagador</td>\n",
       "    </tr>\n",
       "  </tbody>\n",
       "</table>\n",
       "</div>"
      ],
      "text/plain": [
       "     campo     tipo_dato                      descripcion\n",
       "10      id           INT  Identificador único del pagador\n",
       "11  nombre  VARCHAR(100)               Nombre del pagador\n",
       "12   email  VARCHAR(100)   Correo electrónico del pagador"
      ]
     },
     "metadata": {},
     "output_type": "display_data"
    }
   ],
   "source": [
    "# 10. Ejercicio d) ¿Cuáles son los campos de la tabla 'Pagador'?\n",
    "# Filtramos las filas donde la tabla es 'Pagador'\n",
    "campos_pagador = diccionario[diccionario['tabla'] == 'Pagador']\n",
    "print(\"\\nCampos de la tabla Pagador:\")\n",
    "display(campos_pagador[['campo', 'tipo_dato', 'descripcion']])\n"
   ]
  },
  {
   "cell_type": "code",
   "execution_count": 11,
   "id": "c3f8b41b",
   "metadata": {},
   "outputs": [
    {
     "name": "stdout",
     "output_type": "stream",
     "text": [
      "\n",
      "Resumen guardado en 'resumen_diccionario.xlsx'\n"
     ]
    }
   ],
   "source": [
    "# 11. Guardar los resultados en un archivo Excel, cada análisis en una hoja diferente\n",
    "with pd.ExcelWriter(\"resumen_diccionario.xlsx\") as writer:\n",
    "    campos_por_tabla.to_frame().to_excel(writer, sheet_name=\"Campos por tabla\")\n",
    "    campos_decimal.to_excel(writer, sheet_name=\"Campos DECIMAL\", index=False)\n",
    "    campos_correo.to_excel(writer, sheet_name=\"Campos correo\", index=False)\n",
    "    campos_pagador.to_excel(writer, sheet_name=\"Pagador\", index=False)\n",
    "\n",
    "print(\"\\nResumen guardado en 'resumen_diccionario.xlsx'\")"
   ]
  }
 ],
 "metadata": {
  "kernelspec": {
   "display_name": ".venv",
   "language": "python",
   "name": "python3"
  },
  "language_info": {
   "codemirror_mode": {
    "name": "ipython",
    "version": 3
   },
   "file_extension": ".py",
   "mimetype": "text/x-python",
   "name": "python",
   "nbconvert_exporter": "python",
   "pygments_lexer": "ipython3",
   "version": "3.13.3"
  }
 },
 "nbformat": 4,
 "nbformat_minor": 5
}
